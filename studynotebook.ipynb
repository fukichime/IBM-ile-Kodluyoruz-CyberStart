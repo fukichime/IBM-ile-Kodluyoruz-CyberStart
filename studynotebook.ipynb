{
 "cells": [
  {
   "cell_type": "code",
   "execution_count": 7,
   "id": "d076fec5-4211-4879-b315-88c0c0686ca9",
   "metadata": {},
   "outputs": [
    {
     "name": "stdout",
     "output_type": "stream",
     "text": [
      "2.23606797749979\n"
     ]
    }
   ],
   "source": [
    "import numpy as np\n",
    "\n",
    "def euclideanDistance(point1, point2):\n",
    "    \"\"\"Calculation the Euclidean distance between 2 points in a 2D Plane.\n",
    "    point1 representing the coordinates of the first point\n",
    "    point 2 representing the coordinated of the second point\n",
    "        return value will be the distance between the two\"\"\"\n",
    "\n",
    "    #diff between the coordinatess\n",
    "    diffX = point1[0] - point2[0]\n",
    "    diffY = point1[1] - point2[1]\n",
    "\n",
    "    #squred diff\n",
    "    squaredDiffX = diffX ** 2\n",
    "    squaredDiffY = diffY ** 2\n",
    "\n",
    "    #sum of diff\n",
    "    SumOfSDiff = squaredDiffX + squaredDiffY\n",
    "\n",
    "    #calculate distance\n",
    "    distance = np.sqrt(SumOfSDiff)\n",
    "\n",
    "    return distance\n",
    "\n",
    "#ex\n",
    "point1 = np.array([2,4])\n",
    "point2 = np.array([3,6])\n",
    "\n",
    "distance = euclideanDistance(point1, point2)\n",
    "print(distance)"
   ]
  },
  {
   "cell_type": "code",
   "execution_count": null,
   "id": "c53d824a-9c9e-455e-9792-469ba2ce4b52",
   "metadata": {},
   "outputs": [],
   "source": []
  }
 ],
 "metadata": {
  "kernelspec": {
   "display_name": "Python 3 (ipykernel)",
   "language": "python",
   "name": "python3"
  },
  "language_info": {
   "codemirror_mode": {
    "name": "ipython",
    "version": 3
   },
   "file_extension": ".py",
   "mimetype": "text/x-python",
   "name": "python",
   "nbconvert_exporter": "python",
   "pygments_lexer": "ipython3",
   "version": "3.12.6"
  }
 },
 "nbformat": 4,
 "nbformat_minor": 5
}
